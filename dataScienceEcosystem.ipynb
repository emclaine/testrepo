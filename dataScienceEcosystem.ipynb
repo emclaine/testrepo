{
 "cells": [
  {
   "cell_type": "markdown",
   "id": "a13230f4-5e85-42fb-b8f8-6b6ed5bb4799",
   "metadata": {},
   "source": [
    "#Data Science Tools and Ecosystem"
   ]
  },
  {
   "cell_type": "markdown",
   "id": "85c8df78-5671-4570-9810-80c8078155ba",
   "metadata": {},
   "source": [
    "In this notebook, Data Science Tools and Ecosystem are summarized."
   ]
  },
  {
   "cell_type": "code",
   "execution_count": null,
   "id": "4ab7178d-f014-4a34-9b7b-e10a4cf26819",
   "metadata": {},
   "outputs": [],
   "source": [
    "**Objectives:**\n",
    "- Popular tools used in Data Science\n",
    "- Popular languages used in Data Science\n",
    "- Arithmetic Expressions"
   ]
  },
  {
   "cell_type": "markdown",
   "id": "4a2fb8a4-9596-4f91-a872-1ea42e80a75d",
   "metadata": {},
   "source": [
    "**Objectives:**\n",
    "- Popular tools used in Data Science\n",
    "- Popular languages used in Data Science\n",
    "- Arithmetic Expressions"
   ]
  },
  {
   "cell_type": "markdown",
   "id": "af0227ca-c1a0-4098-a1c6-84928628179e",
   "metadata": {},
   "source": [
    "Some of the popular languages that Data Scientists use are:"
   ]
  },
  {
   "cell_type": "markdown",
   "id": "c4c51058-1af0-476d-ace9-734952b71a47",
   "metadata": {},
   "source": [
    "1. Python 2. R 3. SQL 4. Java 5. C++ 6. Scala 7. Julia 8. Javascript"
   ]
  },
  {
   "cell_type": "markdown",
   "id": "7b6d1456-ddad-49f9-ba6a-ffd1f464787e",
   "metadata": {},
   "source": [
    "Some of the commonly used libraries used by Data Scientists include:"
   ]
  },
  {
   "cell_type": "markdown",
   "id": "375c08e0-a448-4565-b0c8-eba981c46416",
   "metadata": {},
   "source": [
    "1. NumPy 2. Pandas 3. Matplotlib 4. Scikit-learn 5. SciPy 6. TensorFlow"
   ]
  },
  {
   "cell_type": "markdown",
   "id": "d837704a-ac9c-4143-ad98-e3760787e04b",
   "metadata": {},
   "source": [
    "| Data Science tools |\n",
    "| ----- |\n",
    "| PyTorch  |\n",
    "| Apache Spark  |\n",
    "| Jupyter Notebook |\n",
    "| MATLAB |\n",
    "| Git |\n",
    "| RStudio |\n",
    "| Microsoft Excel |"
   ]
  },
  {
   "cell_type": "markdown",
   "id": "1672f542-990f-493b-a915-60ed735127e3",
   "metadata": {},
   "source": [
    "| Data Science tools |\n",
    "| ----- |\n",
    "| PyTorch  |\n",
    "| Apache Spark  |\n",
    "| Jupyter Notebook |\n",
    "| MATLAB |\n",
    "| Git |\n",
    "| RStudio |\n",
    "| Microsoft Excel |"
   ]
  },
  {
   "cell_type": "code",
   "execution_count": null,
   "id": "ef4e873c-70e6-4bb4-8979-64eb98296a57",
   "metadata": {},
   "outputs": [],
   "source": [
    "### Below are a few examples of evaluating arithmetic expressions in Python"
   ]
  },
  {
   "cell_type": "markdown",
   "id": "de55d23f-26fb-46c2-a3b0-1a970b8c287f",
   "metadata": {},
   "source": [
    "### Below are a few examples of evaluating arithmetic expressions in Python"
   ]
  },
  {
   "cell_type": "code",
   "execution_count": 4,
   "id": "bc9ee290-cd8e-4d6d-9251-ddf8b9da9426",
   "metadata": {},
   "outputs": [
    {
     "data": {
      "text/plain": [
       "17"
      ]
     },
     "execution_count": 4,
     "metadata": {},
     "output_type": "execute_result"
    }
   ],
   "source": [
    "# This a simple arithmetic expression to multiply then add integers\n",
    "(3*4)+5"
   ]
  },
  {
   "cell_type": "code",
   "execution_count": 5,
   "id": "12671c81-2cf8-4dcf-b063-152a6fa1b33e",
   "metadata": {},
   "outputs": [
    {
     "name": "stdout",
     "output_type": "stream",
     "text": [
      "3.3333333333333335\n"
     ]
    }
   ],
   "source": [
    "# This will convert 200 minutes to hours by diving by 60\n",
    "mins = 200\n",
    "hours = (mins/60)\n",
    "print(hours)"
   ]
  },
  {
   "cell_type": "code",
   "execution_count": null,
   "id": "c107ecc4-b2f2-4cdd-90d9-972dfae79cde",
   "metadata": {},
   "outputs": [],
   "source": [
    "## Author\n",
    "Everett McLaine"
   ]
  },
  {
   "cell_type": "markdown",
   "id": "114309ab-5b91-4d77-828f-6ded6859a684",
   "metadata": {},
   "source": [
    "## Author\n",
    "Everett McLaine"
   ]
  }
 ],
 "metadata": {
  "kernelspec": {
   "display_name": "Python 3 (ipykernel)",
   "language": "python",
   "name": "python3"
  },
  "language_info": {
   "codemirror_mode": {
    "name": "ipython",
    "version": 3
   },
   "file_extension": ".py",
   "mimetype": "text/x-python",
   "name": "python",
   "nbconvert_exporter": "python",
   "pygments_lexer": "ipython3",
   "version": "3.12.8"
  }
 },
 "nbformat": 4,
 "nbformat_minor": 5
}
